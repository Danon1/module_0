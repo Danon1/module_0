{
 "cells": [
  {
   "cell_type": "code",
   "execution_count": 107,
   "metadata": {},
   "outputs": [],
   "source": [
    "from math import ceil, floor #вызываем модуль для работы с числами \n",
    "\n",
    "import numpy as np\n",
    "\n",
    "def score_game(game_core): \n",
    "    '''\n",
    "    Запускаем игру 1000 раз, чтобы узнать, как быстро игра угадывает число\n",
    "    '''\n",
    "    new_tab = [] #создаем новый список\n",
    "    np.random.seed(1)  # фиксируем RANDOM SEED, чтобы ваш эксперимент был воспроизводим!\n",
    "    random_array = np.random.randint(1, 101, 1000) #cоздаем массив из целых чисел от 1 до 100, кол-во 1000раз\n",
    "    \n",
    "    for number in random_array: \n",
    "        new_tab.append(game_core(number)) #добавляем значение к сущ. списку\n",
    "    score = int(np.mean(new_tab)) #среднее арифметическое в списке\n",
    "    \n",
    "    print(f\"Ваш алгоритм угадывает число в среднем за {score} попыток\")\n",
    "    return(score)\n",
    "\n",
    "\n",
    "def game_core_v2(number):\n",
    "    '''\n",
    "    Сначала устанавливаем любое random число, а потом уменьшаем или увеличиваем его\n",
    "    в зависимости от того, больше оно или меньше нужного.\n",
    "    Функция принимает загаданное число и возвращает число попыток\n",
    "    '''\n",
    "    count = 1\n",
    "\n",
    "    predict = np.random.randint(1, 101)\n",
    "    predict_min = 0\n",
    "    predict_max = 100\n",
    "\n",
    "    #print(f\"number {number}, predict {predict}\")\n",
    "\n",
    "    while number != predict:\n",
    "        count += 1\n",
    "        if number > predict:\n",
    "            predict_min = predict\n",
    "            predict = predict + ceil((predict_max - predict) / 2)\n",
    "        elif number < predict:\n",
    "            predict_max = predict\n",
    "            predict = predict - floor((predict - predict_min) / 2)\n",
    "\n",
    "        #print(f\"number {number}, predict {predict}, predict_min {predict_min}, predict_max {predict_max}\") \n",
    "\n",
    "    #print(f\"count {count}\")\n",
    "    #функции принт для проверки работоспособности кода\n",
    "\n",
    "    return (count)  # выход из цикла, если угадали\n"
   ]
  },
  {
   "cell_type": "code",
   "execution_count": 108,
   "metadata": {},
   "outputs": [
    {
     "name": "stdout",
     "output_type": "stream",
     "text": [
      "Ваш алгоритм угадывает число в среднем за 6 попыток\n"
     ]
    },
    {
     "data": {
      "text/plain": [
       "6"
      ]
     },
     "execution_count": 108,
     "metadata": {},
     "output_type": "execute_result"
    }
   ],
   "source": [
    "score_game(game_core_v2)"
   ]
  },
  {
   "cell_type": "code",
   "execution_count": null,
   "metadata": {},
   "outputs": [],
   "source": []
  }
 ],
 "metadata": {
  "kernelspec": {
   "display_name": "Python 3",
   "language": "python",
   "name": "python3"
  },
  "language_info": {
   "codemirror_mode": {
    "name": "ipython",
    "version": 3
   },
   "file_extension": ".py",
   "mimetype": "text/x-python",
   "name": "python",
   "nbconvert_exporter": "python",
   "pygments_lexer": "ipython3",
   "version": "3.8.3"
  }
 },
 "nbformat": 4,
 "nbformat_minor": 4
}
